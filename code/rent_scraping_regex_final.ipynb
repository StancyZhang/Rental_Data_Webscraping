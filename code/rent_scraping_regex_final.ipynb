{
 "cells": [
  {
   "cell_type": "markdown",
   "id": "3e6353e8",
   "metadata": {},
   "source": [
    "Import Packages (Same as before)"
   ]
  },
  {
   "cell_type": "code",
   "execution_count": 1,
   "id": "e77cc5d1",
   "metadata": {},
   "outputs": [],
   "source": [
    "###################### STEP 1 ###################### \n",
    "#import packages\n",
    "import requests\n",
    "import time\n",
    "import os\n",
    "import pandas as pd\n",
    "import numpy as np\n",
    "import random\n",
    "import re\n",
    "import regex\n",
    "\n",
    "# !pip3 install -U spacy\n",
    "import spacy\n",
    "\n",
    "from time import sleep\n",
    "from os import path\n",
    "from pandas import DataFrame\n",
    "from bs4 import BeautifulSoup\n",
    "from random import randint\n",
    "\n",
    "# import selenium\n",
    "# from selenium import webdriver\n",
    "# from selenium.webdriver.chrome.service import Service\n",
    "# from selenium.common.exceptions import NoSuchElementException\n",
    "# from selenium.common.exceptions import ElementClickInterceptedException\n",
    "# from selenium.webdriver.support import expected_conditions as EC\n",
    "# from selenium.webdriver.support.ui import WebDriverWait\n",
    "# from selenium.webdriver.common.by import By\n",
    "# from selenium.webdriver.common.action_chains import ActionChains\n",
    "\n",
    "# set display options\n",
    "pd.set_option('display.max_colwidth', None)\n",
    "pd.set_option('display.max_rows', None)\n",
    "\n",
    "# specify file path of chromedriver\n",
    "# s = Service('/home/himi/Documents/RCC/rent_scraper/chromedriver')\n",
    "\n",
    "snapshot_links, name, owner, address, price_range, bed_range, amenities, contact, property_link = [], [], [], [], [], [], [], [], []"
   ]
  },
  {
   "cell_type": "markdown",
   "id": "e62f0bbb",
   "metadata": {},
   "source": [
    "Get snapshot links (Same as before)"
   ]
  },
  {
   "cell_type": "code",
   "execution_count": 8,
   "id": "1f05116d",
   "metadata": {},
   "outputs": [
    {
     "name": "stdout",
     "output_type": "stream",
     "text": [
      "start scraping blue snapshots from 2015\n",
      "* done with 2015\n"
     ]
    }
   ],
   "source": [
    "###################### STEP 2 ###################### \n",
    "\n",
    "# open chrome\n",
    "browser = webdriver.Chrome(service=s)\n",
    "\n",
    "# define action\n",
    "action = ActionChains(browser)\n",
    "\n",
    "# list of years to loop over\n",
    "years = [\"2015\"]\n",
    "\n",
    "\n",
    "# scrape snapshot links\n",
    "for y in years:\n",
    "    \n",
    "    # open link\n",
    "    print(\"\".join([\"start scraping blue snapshots from \", y]))\n",
    "    yearpage = \"https://web.archive.org/web/\" + y + \"0000000000*/https://www.apartments.com/chicago-il/\"\n",
    "    browser.get(yearpage)\n",
    "    time.sleep(10)\n",
    "    \n",
    "    # find all blue snapshots\n",
    "    blues = browser.find_elements(\"xpath\",\"//*[@class='measure s2xx']\")\n",
    "    time.sleep(5)\n",
    "    \n",
    "    # hover over blue snapshot and fetch snapshot link elements\n",
    "    for blue in blues:\n",
    "        day = blue.find_element(\"xpath\",\"../..\")\n",
    "        time.sleep(2)\n",
    "        action.move_to_element(day).perform()\n",
    "        time.sleep(2)\n",
    "        popup = browser.find_element(\"xpath\",\"//*[@class='popup-of-day']\")\n",
    "        time.sleep(2)\n",
    "        action.move_to_element(popup).perform()\n",
    "        time.sleep(2)\n",
    "        hrefs = browser.find_elements(\"xpath\",\"//*[@class='s2xx snapshot-link']\")\n",
    "        \n",
    "        # save each link and append to list\n",
    "        for href in hrefs: \n",
    "            link = href.get_attribute(\"href\")\n",
    "            time.sleep(2)\n",
    "            snapshot_links.append(link)\n",
    "\n",
    "    # done with year\n",
    "    print(\"\".join([\"* done with \", y]))\n",
    "    \n",
    "# close chrome            \n",
    "browser.quit()"
   ]
  },
  {
   "cell_type": "markdown",
   "id": "5ae60cbc",
   "metadata": {},
   "source": [
    "Function to get all the contents from a particular webpage"
   ]
  },
  {
   "cell_type": "code",
   "execution_count": 2,
   "id": "2b013823",
   "metadata": {},
   "outputs": [],
   "source": [
    "def get_contents(soup, content_text):\n",
    "  try:\n",
    "    parents_blacklist=['[document]','html','head',\n",
    "                       'style','script','body',\n",
    "                       'section','tr',\n",
    "                       'td','label','ul','header',\n",
    "                       'aside']\n",
    "    content=''\n",
    "    text=soup.find_all(text=True)\n",
    "\n",
    "    \n",
    "    for t in text:\n",
    "        if t.parent.name not in parents_blacklist and len(t) > 5:\n",
    "            content=content+t+' '\n",
    "    content_text.append(content)\n",
    "  except Exception:\n",
    "    content_text.append('')\n",
    "    pass\n",
    "\n"
   ]
  },
  {
   "cell_type": "markdown",
   "id": "051a2c9f",
   "metadata": {},
   "source": [
    "Function to get phone numbers, address and prices using regular expressions"
   ]
  },
  {
   "cell_type": "code",
   "execution_count": 267,
   "id": "3b8fe92d",
   "metadata": {},
   "outputs": [],
   "source": [
    "def get_regex_data(webpage):\n",
    "    page=requests.get(webpage)\n",
    "    soup=BeautifulSoup(page.text,'html.parser')\n",
    "    content_text = []\n",
    "    get_contents(soup, content_text)\n",
    "    print(content_text[0])\n",
    "    contacts = re.findall(r'\\(?[0-9]{3}\\)?\\/?\\.?-?\\s?[0-9]{3}-?\\.?-?\\s?[0-9]{4}', content_text[0])\n",
    "    address = regex.findall(r'[\\s\\n]*[1-9][0-9]{,4} (?:[A-Z][a-zA-Z]*,?\\s*){,5} Chicago,?[\\w\\s,]{,3}\\s*[0-9]{,6}?', content_text[0])\n",
    "    address = [addi.strip() for addi in address]\n",
    "    bed_range = re.findall(r'Studio\\s*-\\s*[1-9]\\s*[a-zA-Z]+|[1-9]\\s*-\\s*[1-9]\\s*[a-zA-Z]+|\\s*Studio$|\\s*[1-9]\\s*[a-zA-Z]+,', content_text[0])\n",
    "    prices = []\n",
    "    prices = re.findall(r'\\$[1-9]?[0-9]{,3},?[0-9]{,3}\\s*-\\s*\\$?[1-9]?[0-9]{,3},?[0-9]{,3}', content_text[0])\n",
    "    prices = re.findall(r'\\$[1-9]?[0-9]{,3},?[0-9]{,3}\\s*-\\s*\\$?[1-9]?[0-9]{,3},?[0-9]{,3}|\\$[1-9]?[0-9]{,3},?[0-9]{,3}$|Call for Rent', content_text[0])\n",
    "    print(\"\\nContacts are:\", contacts)\n",
    "    print(\"\\nAddresses are:\", address)\n",
    "    print(\"\\nPrices are:\" , prices)\n",
    "    print(\"\\nBeds are:\" , bed_range)\n",
    "    print(\"\\nLengths\", len(contacts), len(address), len(prices), len(bed_range))\n",
    "    \n",
    "    "
   ]
  },
  {
   "cell_type": "code",
   "execution_count": 269,
   "id": "f7a1cf76",
   "metadata": {},
   "outputs": [
    {
     "name": "stdout",
     "output_type": "stream",
     "text": [
      "For test link\n",
      "\n",
      "Contacts are: ['312-462-0403', '844-737-7559', '312-219-9516', '844-250-5735', '844-741-2982', '844-837-3913', '844-294-8524', '844-406-5855', '844-841-6325', '844-368-4250', '844-525-6919', '844-811-0188', '773-675-1758', '312-646-4953', '866-661-2651', '773-570-3150', '877-331-6062', '708-546-4173', '312-789-5353', '844-233-2845', '888-449-2602', '888-380-0393', '773-358-4744', '877-834-2986', '773-649-4066']\n",
      "\n",
      "Addresses are: ['1350 N Lake Shore Dr Chicago', '1212 W Madison St Chicago', '1 W Superior St Chicago', '37 W Van Buren St Chicago', '910 W Huron St Chicago', '707 N Wells St Chicago', '730 W Couch Pl Chicago', '1225 N Wells St Chicago', '365 N Halsted St Chicago', '625 W Division St Chicago', '343 W Wolf Point Plz Chicago', '14 W Elm St Chicago', '355 E Ohio St Chicago', '180 N Jefferson St Chicago', '448 E Ontario St Chicago', '188 W Randolph St Chicago', '111 W Wacker Dr Chicago', '150 W Roosevelt Rd Chicago', '73 E Lake St Chicago', '215 E Chestnut St Chicago', '420 E Ohio St Chicago', '922 W Washington Blvd Chicago  C', '900 S Clark St Chicago', '2555 N Clark St Chicago']\n",
      "\n",
      "Prices are: ['$1,272 - $2,994', '$1,875 - $3,250', '$1,636 - $4,673', '$1,925 - $3,410', '$2,740 - $5,621', '$1,750 - $5,250', '$1,105 - $2,530', '$1,645 - $4,147', '$1,687 - $6,683', '$1,775 - $3,700', '$1,741 - $10,617', '$1,883 - $7,000', '$1,600 - $4,120', '$1,450 - $4,015', '$1,500 - $5,620', '$1,697 - $9,033', '$1,935 - $3,534', '$2,130 - $3,585', '$1,625 - $2,980', '$1,585 - $4,065', 'Call for Rent', '$1,711 - $3,351', '$1,493 - $2,228']\n",
      "\n",
      "Beds are: ['Studio - 2 Br', 'Studio - 2 Br', 'Studio - 2 Br', 'Studio - 4 Br', 'Studio - 4 Br', '1-3 Br', 'Studio - 3 Br', 'Studio - 3 Br', 'Studio - 3 Br', 'Studio - 3 Br', 'Studio - 2 Br', 'Studio - 3 Br', 'Studio - 3 Br', 'Studio - 3 Br', 'Studio - 2 Br', 'Studio - 2 Br', 'Studio - 3 Br', '1-2 Br', 'Studio - 2 Br', '1-2 Br', 'Studio - 3 Br', '1-3 Br', 'Studio - 2 Br']\n",
      "\n",
      "Lengths 25 24 23 23\n"
     ]
    }
   ],
   "source": [
    "# page_2015 =\"https://web.archive.org/web/20150217144133/https://www.apartments.com/chicago-il/\"\n",
    "# page_2022 = \"https://web.archive.org/web/20220819053652/https://www.apartments.com/chicago-il/\"\n",
    "link = \"https://web.archive.org/web/20160301213254/https://www.apartments.com/chicago-il/2/\"\n",
    "\n",
    "# print(\"For 2015:\")\n",
    "# get_regex_data(page_2015)\n",
    "\n",
    "# print(\"For 2022:\")\n",
    "# get_regex_data(page_2022)\n",
    "\n",
    "print(\"For test link\")\n",
    "get_regex_data(link)"
   ]
  },
  {
   "cell_type": "code",
   "execution_count": 10,
   "id": "f1dba3db",
   "metadata": {},
   "outputs": [],
   "source": [
    "links = ['https://web.archive.org/web/20150217144133/https://www.apartments.com/chicago-il/', 'https://web.archive.org/web/20220612023135/https://www.apartments.com/chicago-il/', 'https://web.archive.org/web/20220321160908/https://www.apartments.com/chicago-il/', 'https://web.archive.org/web/20220121035604/https://www.apartments.com/chicago-il/', 'https://web.archive.org/web/20220426234339/https://www.apartments.com/chicago-il/', 'https://web.archive.org/web/20220403132436/https://www.apartments.com/chicago-il/']"
   ]
  },
  {
   "cell_type": "code",
   "execution_count": 12,
   "id": "2c87017a",
   "metadata": {},
   "outputs": [
    {
     "name": "stdout",
     "output_type": "stream",
     "text": [
      "\n",
      "Contacts are: ['312-288-8069', '312-219-9513', '773-904-9571', '866-611-2494', '866-599-7868', '312-985-0261', '866-933-3491', '866-610-8317', '773-273-6395', '312-462-0403', '773-675-1163', '312-462-1903', '773-492-6656', '855-254-1372', '844-274-9788', '773-649-5501', '872-206-3038', '844-406-5855', '844-443-8919', '708-546-4173', '773-432-4830', '312-462-1938', '312-646-4941', '312-646-4953', '773-358-4744']\n",
      "\n",
      "Addresses are: ['360 E South Water St Chicago', '71 W Hubbard St Chicago', '345 E Wacker Dr Chicago', '5050 S Lake Shore Dr Chicago', '400 E South Water St Chicago', '225 N Columbus Dr Chicago', '1130 S Michigan Ave Chicago', '200 E Illinois St Chicago', '1350 N Lake Shore Dr Chicago', '750 N Rush St Chicago', '850 N Lake Shore Dr Chicago', '220 W Illinois St Chicago', '4740 S Woodlawn Ave Chicago', '445 E Illinois St Chicago', '5009 N Sheridan Rd Chicago', '805 N LaSalle St Chicago', '601 W Jackson Blvd Chicago', '111 W Wacker Dr Chicago', '5140 S Hyde Park Blvd Chicago', '850 S Clark St Chicago', '850 N State St Chicago', '355 E Ohio St Chicago', '922 W Washington Blvd Chicago']\n",
      "\n",
      "Prices are: ['$1,590 - $3,953', '$1,829 - $6,947', '$1,568 - $4,530', '$1,113 - $3,274', '$1,588 - $3,802', '$725 - $1,866', '$1,612 - $4,605', '$1,190 - $3,896', '$2,226 - $9,700', '$1,191 - $3,032', '$1,794 - $6,712', '$1,990 - $12,000', '$1,955 - $3,940', '$763 - $1,511', '$1,815 - $4,925', '$1,200 - $2,400', '$1,475 - $4,800', '$1,005 - $2,870', '$1,452 - $4,413', '$1,995 - $6,695', '$1,258 - $5,151', '$1,696 - $3,190', '$1,339 - $2,621', '$1,593 - $6,422', '$1,565 - $5,225']\n",
      "\n",
      "Contacts are: ['(847) 440-3110', '(844) 295-8794', '(224) 203-2815', '(866) 794-5357', '(844) 489-9630', '(872) 873-3137', '(773) 917-0650', '(847) 979-4467', '(847) 447-2282', '(872) 401-5441', '(312) 462-0329', '(844) 402-4750', '(773) 906-5670', '(844) 596-1422', '(312) 598-1505', '(224) 215-0020', '(844) 288-1201', '(312) 585-7552', '(844) 737-7559', '(844) 264-5425', '(872) 270-4327', '(844) 543-1045', '(312) 985-0502', '(844) 843-7332', '(844) 410-6603']\n",
      "\n",
      "Addresses are: ['930 W Altgeld St, Chicago, IL', '1457 N Halsted St, Chicago, IL', '5035 S East End Ave, Chicago, IL', '5441 NE NEast River Rd, Chicago, IL', '833 N Clark St, Chicago, IL', '2155 N Elston Ave, Chicago, IL', '169 W Huron St, Chicago, IL', '747 N Wabash Ave, Chicago, IL', '121 W Chestnut St, Chicago, IL', '340 E North Water St, Chicago, IL', '8 E Huron St, Chicago, IL', '220 E Illinois St, Chicago, IL', '205 S Peoria, Chicago, IL', '369 W Grand Ave, Chicago, IL', '5029 N Kenmore Ave, Chicago, IL', '1201 One Chicago 14', '1212 W Madison St, Chicago, IL', '717 S Clark St, Chicago, IL', '5811 S Dorchester Ave, Chicago, IL', '2345 N Lincoln Ave, Chicago, IL', '651 S Wells St, Chicago, IL', '1001 S State St, Chicago, IL', '120 N Green St, Chicago, IL']\n",
      "\n",
      "Prices are: ['$2,385 - 14,315', '$2,484 - 5,208', '$1,700 - 6,260', '$1,075 - 3,020', '$2,097 - 24,218', '$1,770 - 6,194', '$2,600 - 10,960', '$2,053 - 5,721', '$1,830 - 5,045', '$3,132 - 3,856', '$2,385 - 14,315', '$2,484 - 5,208', '$1,700 - 6,260', '$1,075 - 3,020', '$2,097 - 24,218', '$1,770 - 6,194', '$2,600 - 10,960', '$2,053 - 5,721', '$1,830 - 5,045', '$3,132 - 3,856', '$1,904 - 10,256', '$2,328 - 10,464', '$5,195 - 6,895', '$2,541 - 9,341', '$1,973 - 6,076', '$2,095 - 69,521', '$2,284 - 11,620', '$2,528 - 5,830', '$1,935 - 11,000', '$2,225 - 4,750', '$2,354 - 5,977', '$1,886 - 9,293', '$1,938 - 5,417', '$2,310 - 12,803']\n",
      "\n",
      "Contacts are: ['(773) 535-0040', '(773) 534-5840', '(773) 534-9190', '(773) 534-7790', '(773) 534-5720', '(773) 535-0040', '(773) 534-5840', '(773) 534-9190', '(773) 534-7790', '(773) 534-5720', '(773) 534-8600', '(773) 534-0034', '(773) 534-3954', '(773) 697-2216', '(773) 534-6400', '(847) 440-3110', '(844) 295-8794', '(224) 203-2815', '(844) 207-9781', '(866) 794-5357', '(224) 326-0829', '(312) 815-5216', '(312) 462-0329', '(844) 294-8524', '(844) 288-1201', '(844) 596-1422', '(844) 402-4562', '(773) 906-5670', '(224) 215-0020', '(844) 489-9630', '(844) 203-3238', '(844) 694-6517', '(773) 358-4744', '(847) 979-4467', '(847) 447-2282', '(312) 585-7552', '(947) 252-6867', '(833) 218-5816', '(872) 268-6517', '(844) 402-4750']\n",
      "\n",
      "Addresses are: ['930 W Altgeld St, Chicago, IL', '1457 N Halsted St, Chicago, IL', '5035 S East End Ave, Chicago, IL', '1407 S Michigan Ave, Chicago, IL', '5441 NE NEast River Rd, Chicago, IL', '1212 N State Pky, Chicago, IL', '939 W Washington Blvd, Chicago, IL', '121 W Chestnut St, Chicago, IL', '730 W Couch Pl, Chicago, IL', '5029 N Kenmore Ave, Chicago, IL', '220 E Illinois St, Chicago, IL', '740 N Aberdeen St, Chicago, IL', '8 E Huron St, Chicago, IL', '369 W Grand Ave, Chicago, IL', '833 N Clark St, Chicago, IL', '4346 N Honore St, Chicago, IL', '808 W Van Buren St, Chicago, IL', '922 W Washington Blvd, Chicago, IL', '169 W Huron St, Chicago, IL', '2282 One Chicago 14', '2627 N Clark St, Chicago, IL', '2555 N Clark St, Chicago, IL', '5816 NEMA Chicago 12', '10 S Indiana Ave, Chicago, IL', '340 E North Water St, Chicago, IL']\n",
      "\n",
      "Prices are: ['$2,075 - 14,435', '$2,126 - 4,215', '$1,600 - 4,748', '$1,750 - 5,650', '$1,130 - 2,185', '$2,260 - 6,322', '$2,075 - 4,815', '$2,066 - 11,136', '$2,079 - 7,783', '$1,740 - 1,890', '$2,075 - 14,435', '$2,126 - 4,215', '$1,600 - 4,748', '$1,750 - 5,650', '$1,130 - 2,185', '$2,260 - 6,322', '$2,075 - 4,815', '$2,066 - 11,136', '$2,079 - 7,783', '$1,740 - 1,890', '$2,539 - 9,828', '$2,300 - 5,299', '$2,575 - 6,895', '$2,425 - 64,650', '$2,215 - 13,048', '$2,044 - 2,139', '$2,200 - 3,820', '$1,863 - 3,484', '$1,990 - 5,521', '$1,780 - 5,045', '$2,393 - 11,620', '$2,224 - 2,304', '$1,812 - 2,914', '$1,920 - 19,900', '$2,175 - 7,956']\n",
      "\n",
      "Contacts are: ['(773) 535-0040', '(773) 534-5840', '(773) 534-9190', '(773) 534-7790', '(773) 534-5720', '(773) 535-0040', '(773) 534-5840', '(773) 534-9190', '(773) 534-7790', '(773) 534-5720', '(773) 534-8600', '(773) 534-0034', '(773) 534-3954', '(773) 697-2216', '(773) 534-6400', '(847) 440-3110', '(844) 295-8794', '(844) 207-9781', '(847) 906-8218', '(866) 794-5357', '(947) 252-6867', '(844) 596-1422', '(312) 598-1505', '(312) 585-7552', '(312) 646-4941', '(844) 490-6606', '(844) 349-2090', '(224) 215-0020', '(312) 964-3725', '(312) 548-6742', '(708) 628-5642', '(312) 462-0329', '(844) 402-4562', '(847) 906-8710', '(312) 964-3768', '(844) 741-2982', '(877) 314-6188', '(844) 227-3127', '(312) 429-6982', '(847) 447-2282']\n",
      "\n",
      "Addresses are: ['480 One Chicago ,', '930 W Altgeld St, Chicago, IL', '1457 N Halsted St, Chicago, IL', '1407 S Michigan Ave, Chicago, IL', '5441 NE NEast River Rd, Chicago, IL', '2627 N Clark St, Chicago, IL', '220 E Illinois St, Chicago, IL', '205 S Peoria, Chicago, IL', '1505 One Chicago 14', '8 W Chestnut St, Chicago, IL', '845 N State St, Chicago, IL', '200 E Illinois St, Chicago, IL', '369 W Grand Ave, Chicago, IL', '20 Emme Chicago 16', '5 N Desplaines St, Chicago, IL', '500 N Lake Shore Dr, Chicago, IL', '451 E Grand Ave, Chicago, IL', '121 W Chestnut St, Chicago, IL', '740 N Aberdeen St, Chicago, IL', '1060 W Monroe St, Chicago, IL', '504 N Green St, Chicago, IL', '910 W Huron St, Chicago, IL', '108 W Chicago Ave, Chicago, IL', '4750 N Winthrop Ave, Chicago, IL', '171 N Aberdeen St, Chicago, IL']\n",
      "\n",
      "Prices are: ['$2,095 - 14,435', '$2,126 - 5,055', '$1,400 - 5,650', '$1,330 - 1,880', '$1,005 - 1,885', '$2,144 - 2,224', '$2,114 - 9,340', '$2,060 - 4,480', '$2,284 - 11,220', '$2,034 - 3,139', '$2,095 - 14,435', '$2,126 - 5,055', '$1,400 - 5,650', '$1,330 - 1,880', '$1,005 - 1,885', '$2,144 - 2,224', '$2,114 - 9,340', '$2,060 - 4,480', '$2,284 - 11,220', '$2,034 - 3,139', '$1,984 - 6,986', '$2,105 - 9,625', '$2,095 - 90,444', '$2,212 - 4,027', '$2,050 - 5,095', '$3,395 - 8,895', '$1,842 - 11,950', '$1,900 - 5,595', '$3,450 - 4,695', '$1,635 - 6,450', '$2,665 - 6,735', '$1,700 - 2,650', '$1,510 - 2,080', '$1,996 - 2,790', '$1,640 - 5,055']\n",
      "\n",
      "Contacts are: ['(773) 535-0040', '(773) 534-5840', '(773) 534-9190', '(773) 534-7790', '(773) 534-5720', '(773) 535-0040', '(773) 534-5840', '(773) 534-9190', '(773) 534-7790', '(773) 534-5720', '(773) 534-8600', '(773) 534-0034', '(773) 534-3954', '(773) 697-2216', '(773) 534-6400', '(844) 295-8794', '(847) 440-3110', '(866) 794-5357', '(224) 203-2815', '(844) 288-1201', '(773) 906-5670', '(773) 917-0650', '(312) 598-1505', '(844) 737-7559', '(844) 294-8524', '(312) 219-9516', '(844) 816-8029', '(844) 410-6603', '(224) 326-0829', '(224) 215-0020', '(844) 596-1422', '(312) 585-7552', '(844) 417-3242', '(872) 270-4327', '(312) 815-5216', '(947) 252-6867', '(844) 489-9630', '(844) 402-4750', '(847) 447-2282', '(844) 349-2090']\n",
      "\n",
      "Addresses are: ['1457 N Halsted St, Chicago, IL', '930 W Altgeld St, Chicago, IL', '5441 NE NEast River Rd, Chicago, IL', '5035 S East End Ave, Chicago, IL', '5029 N Kenmore Ave, Chicago, IL', '8 E Huron St, Chicago, IL', '205 S Peoria, Chicago, IL', '1212 W Madison St, Chicago, IL', '730 W Couch Pl, Chicago, IL', '1 W Superior St, Chicago, IL', '676 N La Salle Dr, Chicago, IL', '120 N Green St, Chicago, IL', '1212 N State Pky, Chicago, IL', '369 W Grand Ave, Chicago, IL', '220 E Illinois St, Chicago, IL', '1422 One Chicago 14', '11 S Green St, Chicago, IL', '5811 S Dorchester Ave, Chicago, IL', '939 W Washington Blvd, Chicago, IL', '2627 N Clark St, Chicago, IL', '833 N Clark St, Chicago, IL', '340 E North Water St, Chicago, IL', '200 E Illinois St, Chicago, IL']\n",
      "\n",
      "Prices are: ['$2,246 - 4,199', '$2,150 - 14,380', '$1,195 - 3,190', '$1,575 - 4,789', '$2,575 - 6,895', '$2,650 - 7,589', '$2,120 - 4,818', '$2,846 - 5,610', '$2,204 - 9,367', '$2,246 - 4,199', '$2,150 - 14,380', '$1,195 - 3,190', '$1,575 - 4,789', '$2,575 - 6,895', '$2,650 - 7,589', '$2,120 - 4,818', '$2,846 - 5,610', '$2,204 - 9,367', '$2,172 - 5,055', '$2,480 - 2,560', '$2,815 - 12,682', '$2,260 - 6,322', '$2,095 - 79,788', '$2,876 - 10,172', '$2,284 - 11,620', '$1,977 - 3,428', '$2,150 - 3,525', '$1,913 - 4,465', '$2,200 - 2,450', '$2,352 - 16,463', '$2,171 - 7,433', '$1,780 - 5,045', '$2,329 - 9,314']\n"
     ]
    },
    {
     "name": "stdout",
     "output_type": "stream",
     "text": [
      "\n",
      "Contacts are: ['(773) 535-0040', '(773) 534-5840', '(773) 534-9190', '(773) 534-7790', '(773) 534-5720', '(773) 535-0040', '(773) 534-5840', '(773) 534-9190', '(773) 534-7790', '(773) 534-5720', '(773) 534-8600', '(773) 534-0034', '(773) 534-3954', '(773) 697-2216', '(773) 534-6400', '(847) 440-3110', '(844) 295-8794', '(224) 203-2815', '(866) 794-5357', '(773) 917-0650', '(872) 285-5421', '(224) 215-0020', '(224) 326-0829', '(844) 294-8524', '(312) 815-5216', '(844) 264-5425', '(844) 288-1201', '(844) 694-6517', '(844) 410-6603', '(844) 402-4750', '(872) 873-3137', '(844) 417-3242', '(947) 252-6867', '(833) 218-5816', '(847) 979-4467', '(844) 402-4562', '(844) 489-9630', '(312) 462-0329', '(844) 859-7954', '(847) 447-2282']\n",
      "\n",
      "Addresses are: ['930 W Altgeld St, Chicago, IL', '1457 N Halsted St, Chicago, IL', '5035 S East End Ave, Chicago, IL', '5441 NE NEast River Rd, Chicago, IL', '5036 N Sheridan Rd Chicago, IL', '369 W Grand Ave, Chicago, IL', '1212 N State Pky, Chicago, IL', '730 W Couch Pl, Chicago, IL', '939 W Washington Blvd, Chicago, IL', '717 S Clark St, Chicago, IL', '5029 N Kenmore Ave, Chicago, IL', '808 W Van Buren St, Chicago, IL', '120 N Green St, Chicago, IL', '340 E North Water St, Chicago, IL', '2155 N Elston Ave, Chicago, IL', '11 S Green St, Chicago, IL', '2627 N Clark St, Chicago, IL', '2555 N Clark St, Chicago, IL', '169 W Huron St, Chicago, IL', '740 N Aberdeen St, Chicago, IL', '833 N Clark St, Chicago, IL', '121 W Chestnut St, Chicago, IL', '25 W Randolph St, Chicago, IL']\n",
      "\n",
      "Prices are: ['$2,245 - 14,435', '$2,126 - 4,249', '$1,575 - 4,748', '$1,090 - 2,190', '$2,550 - 7,589', '$780 - 1,110', '$2,095 - 61,768', '$2,260 - 6,322', '$2,062 - 7,287', '$2,556 - 3,620', '$2,245 - 14,435', '$2,126 - 4,249', '$1,575 - 4,748', '$1,090 - 2,190', '$2,550 - 7,589', '$780 - 1,110', '$2,095 - 61,768', '$2,260 - 6,322', '$2,062 - 7,287', '$2,556 - 3,620', '$1,935 - 14,000', '$1,870 - 1,890', '$2,200 - 3,820', '$2,150 - 11,847', '$2,095 - 7,733', '$1,671 - 6,135', '$1,816 - 5,210', '$2,209 - 2,301', '$1,830 - 2,803', '$1,953 - 5,521', '$1,750 - 5,595', '$2,352 - 16,463', '$1,888 - 10,746', '$1,918 - 8,339', '$1,780 - 5,045']\n"
     ]
    }
   ],
   "source": [
    "for link in links:\n",
    "    get_regex_data(link)"
   ]
  },
  {
   "cell_type": "code",
   "execution_count": 257,
   "id": "5268e583",
   "metadata": {},
   "outputs": [
    {
     "name": "stdout",
     "output_type": "stream",
     "text": [
      "['Studio - 1 Br']\n",
      "['1 - 4 Br']\n",
      "['Studio']\n",
      "[' 1 bath']\n",
      "[]\n"
     ]
    }
   ],
   "source": [
    "text = [\"Studio - 1 Br\", \"1 - 4 Br\", \"Studio\", \"1 bed, 1 bath\", \"1 Br,\"]\n",
    "for i in text:\n",
    "    print(re.findall(r'Studio\\s*-\\s*[1-9]+\\s*[a-zA-Z]+|[1-9]+\\s*-\\s*[1-9]+\\s*[a-zA-Z]+|\\s*Studio|\\s*[1-9]\\s*[a-zA-Z]+$',i))"
   ]
  },
  {
   "cell_type": "code",
   "execution_count": 229,
   "id": "6948fa8b",
   "metadata": {},
   "outputs": [
    {
     "name": "stdout",
     "output_type": "stream",
     "text": [
      "['$1,272 - $2,994']\n",
      "['$1,875 - $3,250']\n",
      "['$1,636 - $4,673']\n",
      "['$1,925 - $3,410']\n",
      "['$2,740 - $5,621']\n",
      "['$1,750 - $5,250']\n",
      "['$1,105 - $2,530']\n",
      "['$1,645 - $4,147']\n",
      "['$1,687 - $6,683']\n",
      "['$1,775 - $3,700']\n",
      "['$1,741 - $10,617']\n",
      "['$1,883 - $7,000']\n",
      "['$1,600 - $4,120']\n",
      "['$1,450 - $4,015']\n",
      "['$1,500 - $5,620']\n",
      "['$1,697 - $9,033']\n",
      "['$1,935 - $3,534']\n",
      "['$2,130 - $3,585']\n",
      "['$1,625 - $2,980']\n",
      "['$1,585 - $4,065']\n",
      "['$1,711 - $3,351']\n",
      "['$1,493 - $2,228']\n",
      "['$1,234']\n"
     ]
    }
   ],
   "source": [
    "text = [\"$12,272 - $89,994\", \"$1,234\"]\n",
    "text =  ['$1,272 - $2,994', '$1,875 - $3,250', '$1,636 - $4,673', '$1,925 - $3,410', '$2,740 - $5,621', '$1,750 - $5,250', '$1,105 - $2,530', '$1,645 - $4,147', '$1,687 - $6,683', '$1,775 - $3,700', '$1,741 - $10,617', '$1,883 - $7,000', '$1,600 - $4,120', '$1,450 - $4,015', '$1,500 - $5,620', '$1,697 - $9,033', '$1,935 - $3,534', '$2,130 - $3,585', '$1,625 - $2,980', '$1,585 - $4,065', '$1,711 - $3,351', '$1,493 - $2,228', \"$1,234\"]\n",
    "for t in text:\n",
    "    print(re.findall(r'\\$[1-9]?[0-9]{,3},?[0-9]{,3}\\s*-\\s*\\$?[1-9]?[0-9]{,3},?[0-9]{,3}|\\$[1-9]?[0-9]{,3},?[0-9]{,3}$', t))"
   ]
  }
 ],
 "metadata": {
  "kernelspec": {
   "display_name": "markuplmft",
   "language": "python",
   "name": "markuplmft"
  },
  "language_info": {
   "codemirror_mode": {
    "name": "ipython",
    "version": 3
   },
   "file_extension": ".py",
   "mimetype": "text/x-python",
   "name": "python",
   "nbconvert_exporter": "python",
   "pygments_lexer": "ipython3",
   "version": "3.7.15"
  }
 },
 "nbformat": 4,
 "nbformat_minor": 5
}
