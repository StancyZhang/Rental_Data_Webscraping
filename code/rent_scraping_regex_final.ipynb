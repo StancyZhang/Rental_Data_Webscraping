{
 "cells": [
  {
   "cell_type": "markdown",
   "id": "3e6353e8",
   "metadata": {},
   "source": [
    "Import Packages (Same as before)"
   ]
  },
  {
   "cell_type": "code",
   "execution_count": 168,
   "id": "e77cc5d1",
   "metadata": {},
   "outputs": [],
   "source": [
    "###################### STEP 1 ###################### \n",
    "#import packages\n",
    "import requests\n",
    "import time\n",
    "import os\n",
    "import pandas as pd\n",
    "import numpy as np\n",
    "import random\n",
    "import selenium\n",
    "import re\n",
    "\n",
    "# !pip3 install -U spacy\n",
    "import spacy\n",
    "\n",
    "from time import sleep\n",
    "from os import path\n",
    "from pandas import DataFrame\n",
    "from bs4 import BeautifulSoup\n",
    "from random import randint\n",
    "\n",
    "from selenium import webdriver\n",
    "from selenium.webdriver.chrome.service import Service\n",
    "from selenium.common.exceptions import NoSuchElementException\n",
    "from selenium.common.exceptions import ElementClickInterceptedException\n",
    "from selenium.webdriver.support import expected_conditions as EC\n",
    "from selenium.webdriver.support.ui import WebDriverWait\n",
    "from selenium.webdriver.common.by import By\n",
    "from selenium.webdriver.common.action_chains import ActionChains\n",
    "\n",
    "# set display options\n",
    "pd.set_option('display.max_colwidth', None)\n",
    "pd.set_option('display.max_rows', None)\n",
    "\n",
    "# specify file path of chromedriver\n",
    "s = Service('/home/himi/Documents/RCC/rent_scraper/chromedriver')\n",
    "\n",
    "snapshot_links, name, owner, address, price_range, bed_range, amenities, contact, property_link = [], [], [], [], [], [], [], [], []"
   ]
  },
  {
   "cell_type": "markdown",
   "id": "e62f0bbb",
   "metadata": {},
   "source": [
    "Get snapshot links (Same as before)"
   ]
  },
  {
   "cell_type": "code",
   "execution_count": 8,
   "id": "1f05116d",
   "metadata": {},
   "outputs": [
    {
     "name": "stdout",
     "output_type": "stream",
     "text": [
      "start scraping blue snapshots from 2015\n",
      "* done with 2015\n"
     ]
    }
   ],
   "source": [
    "###################### STEP 2 ###################### \n",
    "\n",
    "# open chrome\n",
    "browser = webdriver.Chrome(service=s)\n",
    "\n",
    "# define action\n",
    "action = ActionChains(browser)\n",
    "\n",
    "# list of years to loop over\n",
    "years = [\"2015\"]\n",
    "\n",
    "\n",
    "# scrape snapshot links\n",
    "for y in years:\n",
    "    \n",
    "    # open link\n",
    "    print(\"\".join([\"start scraping blue snapshots from \", y]))\n",
    "    yearpage = \"https://web.archive.org/web/\" + y + \"0000000000*/https://www.apartments.com/chicago-il/\"\n",
    "    browser.get(yearpage)\n",
    "    time.sleep(10)\n",
    "    \n",
    "    # find all blue snapshots\n",
    "    blues = browser.find_elements(\"xpath\",\"//*[@class='measure s2xx']\")\n",
    "    time.sleep(5)\n",
    "    \n",
    "    # hover over blue snapshot and fetch snapshot link elements\n",
    "    for blue in blues:\n",
    "        day = blue.find_element(\"xpath\",\"../..\")\n",
    "        time.sleep(2)\n",
    "        action.move_to_element(day).perform()\n",
    "        time.sleep(2)\n",
    "        popup = browser.find_element(\"xpath\",\"//*[@class='popup-of-day']\")\n",
    "        time.sleep(2)\n",
    "        action.move_to_element(popup).perform()\n",
    "        time.sleep(2)\n",
    "        hrefs = browser.find_elements(\"xpath\",\"//*[@class='s2xx snapshot-link']\")\n",
    "        \n",
    "        # save each link and append to list\n",
    "        for href in hrefs: \n",
    "            link = href.get_attribute(\"href\")\n",
    "            time.sleep(2)\n",
    "            snapshot_links.append(link)\n",
    "\n",
    "    # done with year\n",
    "    print(\"\".join([\"* done with \", y]))\n",
    "    \n",
    "# close chrome            \n",
    "browser.quit()"
   ]
  },
  {
   "cell_type": "markdown",
   "id": "5ae60cbc",
   "metadata": {},
   "source": [
    "Function to get all the contents from a particular webpage"
   ]
  },
  {
   "cell_type": "code",
   "execution_count": 172,
   "id": "2b013823",
   "metadata": {},
   "outputs": [],
   "source": [
    "def get_contents(soup, content_text):\n",
    "  try:\n",
    "    parents_blacklist=['[document]','html','head',\n",
    "                       'style','script','body',\n",
    "                       'section','tr',\n",
    "                       'td','label','ul','header',\n",
    "                       'aside']\n",
    "    content=''\n",
    "    text=soup.find_all(text=True)\n",
    "\n",
    "    \n",
    "    for t in text:\n",
    "        if t.parent.name not in parents_blacklist and len(t) > 5:\n",
    "            content=content+t+' '\n",
    "    content_text.append(content)\n",
    "  except Exception:\n",
    "    content_text.append('')\n",
    "    pass\n",
    "\n"
   ]
  },
  {
   "cell_type": "markdown",
   "id": "051a2c9f",
   "metadata": {},
   "source": [
    "Function to get phone numbers, address and prices using regular expressions"
   ]
  },
  {
   "cell_type": "code",
   "execution_count": 411,
   "id": "3b8fe92d",
   "metadata": {},
   "outputs": [],
   "source": [
    "def get_regex_data(webpage):\n",
    "    page=requests.get(webpage)\n",
    "    soup=BeautifulSoup(page.text,'html.parser')\n",
    "    content_text = []\n",
    "    get_contents(soup, content_text)\n",
    "    contacts = re.findall(r'\\(?[0-9]{3}\\)?\\/?\\.?-?\\s?[0-9]{3}-?\\.?-?\\s?[0-9]{4}', content_text[0])\n",
    "    address = regex.findall(r'[\\s\\n]*[1-9][0-9]{,4} (?:[A-Z][a-zA-Z]*,?\\s*){,5} Chicago,?[\\w\\s,]{,3}\\s*[0-9]{,6}?', content_text[0])\n",
    "    address = [addi.strip() for addi in address]\n",
    "    prices = []\n",
    "    prices = re.findall(r'\\$[1-9]?[0-9]{,3},?[0-9]{,3}\\s*-\\s*\\$?[1-9]?[0-9]{,3},?[0-9]{,3}', content_text[0])\n",
    "    print(\"\\nContacts are:\", contacts)\n",
    "    print(\"\\nAddresses are:\", address)\n",
    "    print(\"\\nPrices are:\" , prices)"
   ]
  },
  {
   "cell_type": "code",
   "execution_count": 413,
   "id": "f7a1cf76",
   "metadata": {},
   "outputs": [
    {
     "name": "stdout",
     "output_type": "stream",
     "text": [
      "For 2015:\n",
      "\n",
      "Contacts are: ['312-288-8069', '312-219-9513', '773-904-9571', '866-611-2494', '866-599-7868', '312-985-0261', '866-933-3491', '866-610-8317', '773-273-6395', '312-462-0403', '773-675-1163', '312-462-1903', '773-492-6656', '855-254-1372', '844-274-9788', '773-649-5501', '872-206-3038', '844-406-5855', '844-443-8919', '708-546-4173', '773-432-4830', '312-462-1938', '312-646-4941', '312-646-4953', '773-358-4744']\n",
      "\n",
      "Addresses are: ['360 E South Water St Chicago', '71 W Hubbard St Chicago', '345 E Wacker Dr Chicago', '5050 S Lake Shore Dr Chicago', '400 E South Water St Chicago', '225 N Columbus Dr Chicago', '1130 S Michigan Ave Chicago', '200 E Illinois St Chicago', '1350 N Lake Shore Dr Chicago', '750 N Rush St Chicago', '850 N Lake Shore Dr Chicago', '220 W Illinois St Chicago', '4740 S Woodlawn Ave Chicago', '445 E Illinois St Chicago', '5009 N Sheridan Rd Chicago', '805 N LaSalle St Chicago', '601 W Jackson Blvd Chicago', '111 W Wacker Dr Chicago', '5140 S Hyde Park Blvd Chicago', '850 S Clark St Chicago', '850 N State St Chicago', '355 E Ohio St Chicago', '922 W Washington Blvd Chicago']\n",
      "\n",
      "Prices are: ['$1,590 - $3,953', '$1,829 - $6,947', '$1,568 - $4,530', '$1,113 - $3,274', '$1,588 - $3,802', '$725 - $1,866', '$1,612 - $4,605', '$1,190 - $3,896', '$2,226 - $9,700', '$1,191 - $3,032', '$1,794 - $6,712', '$1,990 - $12,000', '$1,955 - $3,940', '$763 - $1,511', '$1,815 - $4,925', '$1,200 - $2,400', '$1,475 - $4,800', '$1,005 - $2,870', '$1,452 - $4,413', '$1,995 - $6,695', '$1,258 - $5,151', '$1,696 - $3,190', '$1,339 - $2,621', '$1,593 - $6,422', '$1,565 - $5,225']\n",
      "For 2022:\n",
      "\n",
      "Contacts are: ['(847) 440-3110', '(844) 295-8794', '(844) 207-9781', '(224) 203-2815', '(866) 794-5357', '(866) 958-8596', '(708) 316-9691', '(833) 594-3751', '(708) 725-0805', '(708) 401-9108', '(708) 637-0223', '(224) 998-0053', '(708) 853-6207', '(708) 725-1453', '(312) 598-1505', '(312) 585-7552', '(708) 393-2727', '(708) 683-3938', '(872) 401-5441', '(844) 489-9630', '(844) 694-6517', '(312) 964-3725', '(844) 258-0468', '(312) 462-0329', '(844) 402-4750']\n",
      "\n",
      "Addresses are: ['930 W Altgeld St, Chicago, IL', '1457 N Halsted St, Chicago, IL', '1407 S Michigan Ave, Chicago, IL', '5035 S East End Ave, Chicago, IL', '5441 NE NEast River Rd, Chicago, IL', '840 W Blackhawk St, Chicago, IL', '120 N Green St, Chicago, IL', '545 N McClurg Ct, Chicago, IL', '2 W Delaware Pl, Chicago, IL', '165 W Superior St, Chicago, IL', '730 W Couch Pl, Chicago, IL', '2345 N Lincoln Ave, Chicago, IL', '504 N Green St, Chicago, IL', '465 N Park Dr, Chicago, IL', '205 S Peoria, Chicago, IL', '1505 One Chicago 14', '8 E Huron St, Chicago, IL', '1210 N State Pky, Chicago, IL', '747 N Wabash Ave, Chicago, IL', '833 N Clark St, Chicago, IL', '808 W Van Buren St, Chicago, IL', '6517 Emme Chicago 16', '5 N Desplaines St, Chicago, IL', '808 N Wells St, Chicago, IL', '121 W Chestnut St, Chicago, IL', '340 E North Water St, Chicago, IL']\n",
      "\n",
      "Prices are: ['$2,260 - 14,520', '$2,341 - 5,308', '$1,675 - 5,400', '$1,650 - 4,456', '$1,205 - 3,205', '$2,010 - 3,671', '$2,270 - 10,331', '$2,395 - 8,705', '$3,850 - 11,135', '$2,095 - 5,116', '$2,260 - 14,520', '$2,341 - 5,308', '$1,675 - 5,400', '$1,650 - 4,456', '$1,205 - 3,205', '$2,010 - 3,671', '$2,270 - 10,331', '$2,395 - 8,705', '$3,850 - 11,135', '$2,095 - 5,116', '$2,388 - 8,312', '$2,625 - 8,495', '$1,963 - 8,085', '$2,323 - 22,026', '$2,242 - 6,419', '$2,299 - 11,935', '$4,600 - 13,995', '$2,170 - 6,569', '$2,125 - 4,587', '$2,097 - 17,000', '$2,395 - 3,690', '$2,139 - 3,930', '$1,888 - 4,322', '$2,036 - 10,380', '$2,199 - 9,246']\n"
     ]
    }
   ],
   "source": [
    "page_2015 =\"https://web.archive.org/web/20150217144133/https://www.apartments.com/chicago-il/\"\n",
    "page_2022 = 'https://web.archive.org/web/20220819053652/https://www.apartments.com/chicago-il/'\n",
    "\n",
    "print(\"For 2015:\")\n",
    "get_regex_data(page_2015)\n",
    "\n",
    "print(\"For 2022:\")\n",
    "get_regex_data(page_2022)"
   ]
  },
  {
   "cell_type": "code",
   "execution_count": null,
   "id": "f1dba3db",
   "metadata": {},
   "outputs": [],
   "source": []
  }
 ],
 "metadata": {
  "kernelspec": {
   "display_name": "Python 3 (ipykernel)",
   "language": "python",
   "name": "python3"
  },
  "language_info": {
   "codemirror_mode": {
    "name": "ipython",
    "version": 3
   },
   "file_extension": ".py",
   "mimetype": "text/x-python",
   "name": "python",
   "nbconvert_exporter": "python",
   "pygments_lexer": "ipython3",
   "version": "3.10.4"
  }
 },
 "nbformat": 4,
 "nbformat_minor": 5
}
