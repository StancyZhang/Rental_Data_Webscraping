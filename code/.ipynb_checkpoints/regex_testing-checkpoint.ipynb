{
 "cells": [
  {
   "cell_type": "code",
   "execution_count": 1,
   "id": "cbceef7a",
   "metadata": {},
   "outputs": [],
   "source": [
    "import requests\n",
    "import time\n",
    "import os\n",
    "import pandas as pd\n",
    "import numpy as np\n",
    "import random\n",
    "import re\n",
    "import regex\n",
    "from time import sleep\n",
    "from os import path\n",
    "from pandas import DataFrame\n",
    "from bs4 import BeautifulSoup\n",
    "from random import randint"
   ]
  },
  {
   "cell_type": "code",
   "execution_count": 2,
   "id": "20c89eaf",
   "metadata": {},
   "outputs": [],
   "source": [
    "def get_contents(soup, content_text):\n",
    "  try:\n",
    "    parents_blacklist=['[document]','html','head',\n",
    "                       'style','script','body',\n",
    "                       'section','tr',\n",
    "                       'td','label','ul','header',\n",
    "                       'aside']\n",
    "    content=''\n",
    "    text=soup.find_all(text=True)\n",
    "\n",
    "    \n",
    "    for t in text:\n",
    "        if t.parent.name not in parents_blacklist and len(t) > 5:\n",
    "            content=content+t+' '\n",
    "    content_text.append(content)\n",
    "  except Exception:\n",
    "    content_text.append('')\n",
    "    pass"
   ]
  },
  {
   "cell_type": "code",
   "execution_count": 6,
   "id": "070eadc0",
   "metadata": {},
   "outputs": [],
   "source": [
    "def get_regex_data(webpage):\n",
    "    page=requests.get(webpage)\n",
    "    soup=BeautifulSoup(page.text,'html.parser')\n",
    "    content_text = []\n",
    "    get_contents(soup, content_text)\n",
    "#     print(content_text[0])\n",
    "    contacts = re.findall(r'\\(?[0-9]{3}\\)?\\/?\\.?-?\\s?[0-9]{3}-?\\.?-?\\s?[0-9]{4}', content_text[0])\n",
    "    address = regex.findall(r'[\\s\\n]*[1-9][0-9]{,4} (?:[A-Z][a-zA-Z]*,?\\s*){,5} Chicago,?[\\w\\s,]{,3}\\s*[0-9]{,6}?', content_text[0])\n",
    "    address = [addi.strip() for addi in address]\n",
    "    bed_range = re.findall(r'Studio\\s*-\\s*[1-9]\\s*[a-zA-Z]+|[1-9]\\s*-\\s*[1-9]\\s*[a-zA-Z]+|\\s*Studio$|\\s*[1-9]\\s*[a-zA-Z]+,', content_text[0])\n",
    "    prices = []\n",
    "    prices = re.findall(r'\\$[1-9]?[0-9]{,3},?[0-9]{,3}\\s*-\\s*\\$?[1-9]?[0-9]{,3},?[0-9]{,3}', content_text[0])\n",
    "    prices = re.findall(r'\\$[1-9]?[0-9]{,3},?[0-9]{,3}\\s*-\\s*\\$?[1-9]?[0-9]{,3},?[0-9]{,3}|\\$[1-9]?[0-9]{,3},?[0-9]{,3}$|Call for Rent', content_text[0])\n",
    "    print(\"\\nContacts are:\", contacts)\n",
    "    print(\"\\nAddresses are:\", address)\n",
    "    print(\"\\nPrices are:\" , prices)\n",
    "    print(\"\\nBeds are:\" , bed_range)\n",
    "    print(\"\\nLengths of Filtered Lists are\", len(contacts), len(address), len(prices), len(bed_range))"
   ]
  },
  {
   "cell_type": "code",
   "execution_count": 8,
   "id": "0550d5fa",
   "metadata": {},
   "outputs": [
    {
     "name": "stdout",
     "output_type": "stream",
     "text": [
      "\n",
      "For test link\n",
      "\n",
      "Contacts are: ['312-462-0403', '844-737-7559', '312-219-9516', '844-250-5735', '844-741-2982', '844-837-3913', '844-294-8524', '844-406-5855', '844-841-6325', '844-368-4250', '844-525-6919', '844-811-0188', '773-675-1758', '312-646-4953', '866-661-2651', '773-570-3150', '877-331-6062', '708-546-4173', '312-789-5353', '844-233-2845', '888-449-2602', '888-380-0393', '773-358-4744', '877-834-2986', '773-649-4066']\n",
      "\n",
      "Addresses are: ['1350 N Lake Shore Dr Chicago', '1212 W Madison St Chicago', '1 W Superior St Chicago', '37 W Van Buren St Chicago', '910 W Huron St Chicago', '707 N Wells St Chicago', '730 W Couch Pl Chicago', '1225 N Wells St Chicago', '365 N Halsted St Chicago', '625 W Division St Chicago', '343 W Wolf Point Plz Chicago', '14 W Elm St Chicago', '355 E Ohio St Chicago', '180 N Jefferson St Chicago', '448 E Ontario St Chicago', '188 W Randolph St Chicago', '111 W Wacker Dr Chicago', '150 W Roosevelt Rd Chicago', '73 E Lake St Chicago', '215 E Chestnut St Chicago', '420 E Ohio St Chicago', '922 W Washington Blvd Chicago  C', '900 S Clark St Chicago', '2555 N Clark St Chicago']\n",
      "\n",
      "Prices are: ['$1,272 - $2,994', '$1,875 - $3,250', '$1,636 - $4,673', '$1,925 - $3,410', '$2,740 - $5,621', '$1,750 - $5,250', '$1,105 - $2,530', '$1,645 - $4,147', '$1,687 - $6,683', '$1,775 - $3,700', '$1,741 - $10,617', '$1,883 - $7,000', '$1,600 - $4,120', '$1,450 - $4,015', '$1,500 - $5,620', '$1,697 - $9,033', '$1,935 - $3,534', '$2,130 - $3,585', '$1,625 - $2,980', '$1,585 - $4,065', 'Call for Rent', '$1,711 - $3,351', '$1,493 - $2,228']\n",
      "\n",
      "Beds are: ['Studio - 2 Br', 'Studio - 2 Br', 'Studio - 2 Br', 'Studio - 4 Br', 'Studio - 4 Br', '1-3 Br', 'Studio - 3 Br', 'Studio - 3 Br', 'Studio - 3 Br', 'Studio - 3 Br', 'Studio - 2 Br', 'Studio - 3 Br', 'Studio - 3 Br', 'Studio - 3 Br', 'Studio - 2 Br', 'Studio - 2 Br', 'Studio - 3 Br', '1-2 Br', 'Studio - 2 Br', '1-2 Br', 'Studio - 3 Br', '1-3 Br', 'Studio - 2 Br']\n",
      "\n",
      "Lengths of Filtered Lists are 25 24 23 23\n"
     ]
    }
   ],
   "source": [
    "link = \"https://web.archive.org/web/20160301213254/https://www.apartments.com/chicago-il/2/\"\n",
    "\n",
    "print(\"\\nFor test link\")\n",
    "get_regex_data(link)"
   ]
  }
 ],
 "metadata": {
  "kernelspec": {
   "display_name": "markuplmft",
   "language": "python",
   "name": "markuplmft"
  },
  "language_info": {
   "codemirror_mode": {
    "name": "ipython",
    "version": 3
   },
   "file_extension": ".py",
   "mimetype": "text/x-python",
   "name": "python",
   "nbconvert_exporter": "python",
   "pygments_lexer": "ipython3",
   "version": "3.7.15"
  }
 },
 "nbformat": 4,
 "nbformat_minor": 5
}
