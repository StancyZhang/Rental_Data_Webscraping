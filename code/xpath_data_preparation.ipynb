{
 "cells": [
  {
   "cell_type": "code",
   "execution_count": 100,
   "id": "624e787a",
   "metadata": {},
   "outputs": [],
   "source": [
    "#Load packages\n",
    "import sys\n",
    "import os\n",
    "import requests\n",
    "import re\n",
    "import string\n",
    "import time\n",
    "import datetime\n",
    "\n",
    "import pandas as pd\n",
    "\n",
    "from lxml import html\n",
    "from lxml import etree\n",
    "\n",
    "import numpy as np"
   ]
  },
  {
   "cell_type": "code",
   "execution_count": 62,
   "id": "9e091425",
   "metadata": {},
   "outputs": [],
   "source": [
    "def flatten(l):\n",
    "    return np.concatenate(l)"
   ]
  },
  {
   "cell_type": "code",
   "execution_count": 98,
   "id": "bc1c3ea1",
   "metadata": {},
   "outputs": [
    {
     "name": "stdout",
     "output_type": "stream",
     "text": [
      "['https://web.archive.org/web/20150217144133/https://www.apartments.com/chicago-il/', 'https://web.archive.org/web/20220612023135/https://www.apartments.com/chicago-il/', 'https://web.archive.org/web/20220321160908/https://www.apartments.com/chicago-il/', 'https://web.archive.org/web/20220121035604/https://www.apartments.com/chicago-il/', 'https://web.archive.org/web/20220426234339/https://www.apartments.com/chicago-il/', 'https://web.archive.org/web/20220403132436/https://www.apartments.com/chicago-il/']\n"
     ]
    }
   ],
   "source": [
    "#Load data collected at Booth\n",
    "info_2015 = pd.read_csv(\"../training_data/Info_2015.csv\", delimiter=\"\\t\")\n",
    "info_2022 = pd.read_csv(\"../training_data/Info_2022.csv\", delimiter=\"\\t\")\n",
    "\n",
    "#Create a dataframe for webpage links for which we need to extract nodes and xpaths\n",
    "\n",
    "links=[]\n",
    "links.append(list(set(info_2015['snapshot_link'])))\n",
    "links.append(list(set(info_2022['snapshot_link'])))\n",
    "\n",
    "links = flatten(links)\n",
    "print(links)\n"
   ]
  },
  {
   "cell_type": "code",
   "execution_count": 112,
   "id": "71f0b95e",
   "metadata": {},
   "outputs": [
    {
     "name": "stdout",
     "output_type": "stream",
     "text": [
      "0 https://web.archive.org/web/20150217144133/https://www.apartments.com/chicago-il/\n",
      "Index(['nodes', 'xpaths'], dtype='object')\n",
      "1 https://web.archive.org/web/20220612023135/https://www.apartments.com/chicago-il/\n",
      "Index(['nodes', 'xpaths'], dtype='object')\n",
      "2 https://web.archive.org/web/20220321160908/https://www.apartments.com/chicago-il/\n",
      "Index(['nodes', 'xpaths'], dtype='object')\n",
      "3 https://web.archive.org/web/20220121035604/https://www.apartments.com/chicago-il/\n",
      "Index(['nodes', 'xpaths'], dtype='object')\n",
      "4 https://web.archive.org/web/20220426234339/https://www.apartments.com/chicago-il/\n",
      "Index(['nodes', 'xpaths'], dtype='object')\n",
      "5 https://web.archive.org/web/20220403132436/https://www.apartments.com/chicago-il/\n",
      "Index(['nodes', 'xpaths'], dtype='object')\n"
     ]
    }
   ],
   "source": [
    "# print(\"Start Time\", start_requests)\n",
    "\n",
    "for i, link in enumerate(links):\n",
    "    print(i, str(link))\n",
    "    start_requests = datetime.datetime.now()    \n",
    "    try:\n",
    "        response = requests.get(str(link), proxies={'http': '222.255.169.74:8080'}, timeout=5)\n",
    "#         print(response.status_code)\n",
    "    except requests.exceptions.Timeout:\n",
    "        print('The request timed out')\n",
    "\n",
    "    root = html.fromstring(response.text)\n",
    "    tree = root.getroottree()\n",
    "\n",
    "    parents_blacklist=['[document]','html','head',\n",
    "                       'style','script','body',\n",
    "                       'section','tr',\n",
    "                       'td','label','ul','header',\n",
    "                       'aside']\n",
    "\n",
    "    regexpNS = \"http://exslt.org/regular-expressions\"\n",
    "    finds = root.xpath(\"//*[re:test(., '[a-zA-Z0-9]', 'i')]\", namespaces={'re':regexpNS})\n",
    "\n",
    "    total_nodes = 1\n",
    "    nodes = []\n",
    "    xpaths = []\n",
    "\n",
    "    start = datetime.datetime.now()\n",
    "\n",
    "    for i, find in enumerate(finds):\n",
    "        path = tree.getpath(find)\n",
    "        if i == len(finds) - 1:\n",
    "            text = tree.xpath(path)[0].text\n",
    "            if text != None and len(text) > 0 and len(text) < 60 and text != \" \":\n",
    "                total_nodes = total_nodes + 1\n",
    "                nodes.append(text.strip())\n",
    "                xpaths.append(path)\n",
    "                break\n",
    "        else:\n",
    "            path_next = tree.getpath(finds[i+1])         \n",
    "            if path in path_next:\n",
    "                continue\n",
    "            else:\n",
    "                text = tree.xpath(path)[0].text\n",
    "                if text != None and len(text) > 0 and len(text) < 60 and text != \" \":\n",
    "    #                 print(text.strip(), path)\n",
    "                    total_nodes = total_nodes + 1\n",
    "                    nodes.append(text.strip())\n",
    "                    xpaths.append(str(path))\n",
    "\n",
    "    # print(\"\\n \\n Total Number of Nodes Are:\", total_nodes) \n",
    "    # print(nodes)\n",
    "    # print(xpaths)\n",
    "    dataset = pd.DataFrame({\"nodes\": nodes, \"xpaths\":xpaths})\n",
    "    print(dataset.columns)\n",
    "    file_name = str(link[28:42]) + \"_nodes_xpaths.csv\"\n",
    "    file_path = os.path.join(\"../training_data/nodes_xpaths\", file_name)\n",
    "    dataset.to_csv(file_path, sep='\\t', index=False)   \n"
   ]
  },
  {
   "cell_type": "code",
   "execution_count": null,
   "id": "ad21b010",
   "metadata": {},
   "outputs": [],
   "source": []
  }
 ],
 "metadata": {
  "kernelspec": {
   "display_name": "webscraper_venv",
   "language": "python",
   "name": "webscraper_venv"
  },
  "language_info": {
   "codemirror_mode": {
    "name": "ipython",
    "version": 3
   },
   "file_extension": ".py",
   "mimetype": "text/x-python",
   "name": "python",
   "nbconvert_exporter": "python",
   "pygments_lexer": "ipython3",
   "version": "3.10.4"
  }
 },
 "nbformat": 4,
 "nbformat_minor": 5
}
