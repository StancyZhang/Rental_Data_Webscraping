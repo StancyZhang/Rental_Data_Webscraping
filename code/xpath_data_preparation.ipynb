{
 "cells": [
  {
   "cell_type": "code",
   "execution_count": 1,
   "id": "624e787a",
   "metadata": {},
   "outputs": [],
   "source": [
    "#Load packages\n",
    "import sys\n",
    "import os\n",
    "import requests\n",
    "import re\n",
    "import string\n",
    "import time\n",
    "import datetime\n",
    "\n",
    "import pandas as pd\n",
    "\n",
    "from lxml import html\n",
    "from lxml import etree\n",
    "\n",
    "import numpy as np"
   ]
  },
  {
   "cell_type": "code",
   "execution_count": 2,
   "id": "9e091425",
   "metadata": {},
   "outputs": [],
   "source": [
    "def flatten(l):\n",
    "    return np.concatenate(l)"
   ]
  },
  {
   "cell_type": "code",
   "execution_count": 7,
   "id": "6ac4502b",
   "metadata": {},
   "outputs": [
    {
     "data": {
      "text/plain": [
       "array(['1001 South State, Chicago, IL', '1407 On Michigan, Chicago, IL',\n",
       "       '369 Grand by Onni, Chicago, IL',\n",
       "       '500 Lake Shore Drive, Chicago, IL',\n",
       "       '5036 N Sheridan Rd, Chicago, IL', 'Aberdeen East, Chicago, IL',\n",
       "       'Aston, Chicago, IL', 'Aurelien, Chicago, IL',\n",
       "       'Chestnut Place, Chicago, IL',\n",
       "       'Chestnut Tower Apartments, Chicago, IL', 'Circa 922, Chicago, IL',\n",
       "       'Clark Street Apartments, Chicago, IL', 'Cloisters, Chicago, IL',\n",
       "       'Coeval, Chicago, IL', 'Elevate, Chicago, IL',\n",
       "       'Emme Chicago, Chicago, IL', 'Gateway West Loop, Chicago, IL',\n",
       "       'Gild, Chicago, IL', 'Imprint, Chicago, IL',\n",
       "       'Marlowe, Chicago, IL', 'Marquee at Block 37, Chicago, IL',\n",
       "       'Milieu, Chicago, IL', 'Mondial River West, Chicago, IL',\n",
       "       'Monroe Aberdeen Place, Chicago, IL', 'NEMA Chicago, Chicago, IL',\n",
       "       'North Water Apartments, Chicago, IL',\n",
       "       'One Bennett Park, Chicago, IL', 'One Chicago, Chicago, IL',\n",
       "       'One Superior Place, Chicago, IL', 'Optima Signature, Chicago, IL',\n",
       "       'Regents Park, Chicago, IL', 'Reside on Green Street, Chicago, IL',\n",
       "       'Residences at 8 East Huron, Chicago, IL',\n",
       "       'Solstice on the Park, Chicago, IL',\n",
       "       'State &amp; Chestnut, Chicago, IL',\n",
       "       'The Apartments at Lincoln Common, Chicago, IL',\n",
       "       'The Ardus, Chicago, IL', 'The Bernardin, Chicago, IL',\n",
       "       'The Bush Temple, Chicago, IL', 'The Henry, Chicago, IL',\n",
       "       'The Kent, Chicago, IL', 'The Lofts at Gin Alley, Chicago, IL',\n",
       "       'The Madison at Racine, Chicago, IL',\n",
       "       'The Parker Fulton Market, Chicago, IL',\n",
       "       'The Pavilion, Chicago, IL', 'The Regal Apartments, Chicago, IL',\n",
       "       'The Residences at NewCity, Chicago, IL',\n",
       "       'The Synagogue, Chicago, IL', 'The Van Buren, Chicago, IL',\n",
       "       'The Winnie, Chicago, IL', 'Triangle Square, Chicago, IL',\n",
       "       'Union West, Chicago, IL', 'Vue53, Chicago, IL',\n",
       "       'Westerly, Chicago, IL'], dtype=object)"
      ]
     },
     "execution_count": 7,
     "metadata": {},
     "output_type": "execute_result"
    }
   ],
   "source": [
    "info_2022 = pd.read_csv(\"../training_data/Info_2022.csv\", delimiter=\"\\t\")\n",
    "names = info_2022['name']\n",
    "len(np.unique(names))\n",
    "np.unique(names)"
   ]
  },
  {
   "cell_type": "code",
   "execution_count": 98,
   "id": "bc1c3ea1",
   "metadata": {},
   "outputs": [
    {
     "name": "stdout",
     "output_type": "stream",
     "text": [
      "['https://web.archive.org/web/20150217144133/https://www.apartments.com/chicago-il/', 'https://web.archive.org/web/20220612023135/https://www.apartments.com/chicago-il/', 'https://web.archive.org/web/20220321160908/https://www.apartments.com/chicago-il/', 'https://web.archive.org/web/20220121035604/https://www.apartments.com/chicago-il/', 'https://web.archive.org/web/20220426234339/https://www.apartments.com/chicago-il/', 'https://web.archive.org/web/20220403132436/https://www.apartments.com/chicago-il/']\n"
     ]
    }
   ],
   "source": [
    "#Load data collected at Booth\n",
    "info_2015 = pd.read_csv(\"../training_data/Info_2015.csv\", delimiter=\"\\t\")\n",
    "info_2022 = pd.read_csv(\"../training_data/Info_2022.csv\", delimiter=\"\\t\")\n",
    "\n",
    "#Create a dataframe for webpage links for which we need to extract nodes and xpaths\n",
    "\n",
    "links=[]\n",
    "links.append(list(set(info_2015['snapshot_link'])))\n",
    "links.append(list(set(info_2022['snapshot_link'])))\n",
    "\n",
    "links = flatten(links)\n",
    "print(links)\n"
   ]
  },
  {
   "cell_type": "code",
   "execution_count": 112,
   "id": "71f0b95e",
   "metadata": {},
   "outputs": [
    {
     "name": "stdout",
     "output_type": "stream",
     "text": [
      "0 https://web.archive.org/web/20150217144133/https://www.apartments.com/chicago-il/\n",
      "Index(['nodes', 'xpaths'], dtype='object')\n",
      "1 https://web.archive.org/web/20220612023135/https://www.apartments.com/chicago-il/\n",
      "Index(['nodes', 'xpaths'], dtype='object')\n",
      "2 https://web.archive.org/web/20220321160908/https://www.apartments.com/chicago-il/\n",
      "Index(['nodes', 'xpaths'], dtype='object')\n",
      "3 https://web.archive.org/web/20220121035604/https://www.apartments.com/chicago-il/\n",
      "Index(['nodes', 'xpaths'], dtype='object')\n",
      "4 https://web.archive.org/web/20220426234339/https://www.apartments.com/chicago-il/\n",
      "Index(['nodes', 'xpaths'], dtype='object')\n",
      "5 https://web.archive.org/web/20220403132436/https://www.apartments.com/chicago-il/\n",
      "Index(['nodes', 'xpaths'], dtype='object')\n"
     ]
    }
   ],
   "source": [
    "# print(\"Start Time\", start_requests)\n",
    "\n",
    "for i, link in enumerate(links):\n",
    "    print(i, str(link))\n",
    "    start_requests = datetime.datetime.now()    \n",
    "    try:\n",
    "        response = requests.get(str(link), proxies={'http': '222.255.169.74:8080'}, timeout=5)\n",
    "#         print(response.status_code)\n",
    "    except requests.exceptions.Timeout:\n",
    "        print('The request timed out')\n",
    "\n",
    "    root = html.fromstring(response.text)\n",
    "    tree = root.getroottree()\n",
    "\n",
    "    parents_blacklist=['[document]','html','head',\n",
    "                       'style','script','body',\n",
    "                       'section','tr',\n",
    "                       'td','label','ul','header',\n",
    "                       'aside']\n",
    "\n",
    "    regexpNS = \"http://exslt.org/regular-expressions\"\n",
    "    finds = root.xpath(\"//*[re:test(., '[a-zA-Z0-9]', 'i')]\", namespaces={'re':regexpNS})\n",
    "\n",
    "    total_nodes = 1\n",
    "    nodes = []\n",
    "    xpaths = []\n",
    "\n",
    "    start = datetime.datetime.now()\n",
    "\n",
    "    for i, find in enumerate(finds):\n",
    "        path = tree.getpath(find)\n",
    "        if i == len(finds) - 1:\n",
    "            text = tree.xpath(path)[0].text\n",
    "            if text != None and len(text) > 0 and len(text) < 60 and text != \" \":\n",
    "                total_nodes = total_nodes + 1\n",
    "                nodes.append(text.strip())\n",
    "                xpaths.append(path)\n",
    "                break\n",
    "        else:\n",
    "            path_next = tree.getpath(finds[i+1])         \n",
    "            if path in path_next:\n",
    "                continue\n",
    "            else:\n",
    "                text = tree.xpath(path)[0].text\n",
    "                if text != None and len(text) > 0 and len(text) < 60 and text != \" \":\n",
    "    #                 print(text.strip(), path)\n",
    "                    total_nodes = total_nodes + 1\n",
    "                    nodes.append(text.strip())\n",
    "                    xpaths.append(str(path))\n",
    "\n",
    "    # print(\"\\n \\n Total Number of Nodes Are:\", total_nodes) \n",
    "    # print(nodes)\n",
    "    # print(xpaths)\n",
    "    dataset = pd.DataFrame({\"nodes\": nodes, \"xpaths\":xpaths})\n",
    "    print(dataset.columns)\n",
    "    file_name = str(link[28:42]) + \"_nodes_xpaths.csv\"\n",
    "    file_path = os.path.join(\"../training_data/nodes_xpaths\", file_name)\n",
    "    dataset.to_csv(file_path, sep='\\t', index=False)   \n"
   ]
  },
  {
   "cell_type": "code",
   "execution_count": null,
   "id": "ad21b010",
   "metadata": {},
   "outputs": [],
   "source": []
  }
 ],
 "metadata": {
  "kernelspec": {
   "display_name": "webscraper_venv",
   "language": "python",
   "name": "webscraper_venv"
  },
  "language_info": {
   "codemirror_mode": {
    "name": "ipython",
    "version": 3
   },
   "file_extension": ".py",
   "mimetype": "text/x-python",
   "name": "python",
   "nbconvert_exporter": "python",
   "pygments_lexer": "ipython3",
   "version": "3.10.4"
  }
 },
 "nbformat": 4,
 "nbformat_minor": 5
}
